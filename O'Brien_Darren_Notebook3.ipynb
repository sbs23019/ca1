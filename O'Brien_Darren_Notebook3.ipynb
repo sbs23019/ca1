{
 "cells": [
  {
   "cell_type": "markdown",
   "id": "2a26212c",
   "metadata": {},
   "source": [
    "## Machine Learning"
   ]
  },
  {
   "cell_type": "code",
   "execution_count": 1,
   "id": "64f42cf0",
   "metadata": {},
   "outputs": [],
   "source": [
    "# Import libraries to be used in the task\n",
    "import pandas as pd\n",
    "import numpy as np\n",
    "import seaborn as sns\n",
    "import statistics as stats\n",
    "import matplotlib.pyplot as plt\n",
    "from scipy import stats\n",
    "\n",
    "from sklearn.model_selection import train_test_split\n",
    "from sklearn.linear_model import LinearRegression\n",
    "from sklearn import linear_model\n",
    "from sklearn.metrics import r2_score\n",
    "\n",
    "# Ignore warnings - warning were used in the development of the notebook, and removed in the final version\n",
    "import warnings\n",
    "#warnings.filterwarnings('ignore')"
   ]
  },
  {
   "cell_type": "code",
   "execution_count": 2,
   "id": "839ee119",
   "metadata": {},
   "outputs": [
    {
     "name": "stdout",
     "output_type": "stream",
     "text": [
      "<class 'pandas.core.frame.DataFrame'>\n",
      "RangeIndex: 420 entries, 0 to 419\n",
      "Data columns (total 17 columns):\n",
      " #   Column                       Non-Null Count  Dtype \n",
      "---  ------                       --------------  ----- \n",
      " 0   Department Ref Number        420 non-null    int64 \n",
      " 1   Construction Activity (Y/N)  420 non-null    object\n",
      " 2   County                       420 non-null    object\n",
      " 3   Detached Units               420 non-null    int64 \n",
      " 4   Semi-detached Units          420 non-null    int64 \n",
      " 5   Terraced Units               420 non-null    int64 \n",
      " 6   Apartment Units              420 non-null    int64 \n",
      " 7   Duplex Units                 420 non-null    int64 \n",
      " 8   Total All Units              420 non-null    int64 \n",
      " 9   Occupied Houses              420 non-null    int64 \n",
      " 10  Vacant Houses                420 non-null    int64 \n",
      " 11  No Start Houses              420 non-null    int64 \n",
      " 12  Occupied Apartments          420 non-null    int64 \n",
      " 13  Vacant Apartments            420 non-null    int64 \n",
      " 14  No Start Apartments          420 non-null    int64 \n",
      " 15  Building Site Only           420 non-null    object\n",
      " 16  County Population            420 non-null    int64 \n",
      "dtypes: int64(14), object(3)\n",
      "memory usage: 55.9+ KB\n"
     ]
    },
    {
     "data": {
      "text/plain": [
       "(420, 17)"
      ]
     },
     "execution_count": 2,
     "metadata": {},
     "output_type": "execute_result"
    }
   ],
   "source": [
    "# Load the dataset to be analysed\n",
    "unfinished_construction_population_df = pd.read_csv('unfinished_construction_population_df.csv')\n",
    "unfinished_construction_population_df.info()\n",
    "unfinished_construction_population_df.shape"
   ]
  },
  {
   "cell_type": "code",
   "execution_count": 3,
   "id": "c99644c4",
   "metadata": {},
   "outputs": [],
   "source": [
    "#save independent values in X and dependent in y\n",
    "X = unfinished_construction_population_df[['Total All Units']]\n",
    "y = unfinished_construction_population_df[['Occupied Houses']]"
   ]
  },
  {
   "cell_type": "code",
   "execution_count": 4,
   "id": "ebd3f292",
   "metadata": {},
   "outputs": [
    {
     "data": {
      "image/png": "[encoded data removed]",
      "text/plain": [
       "<Figure size 432x288 with 1 Axes>"
      ]
     },
     "metadata": {
      "needs_background": "light"
     },
     "output_type": "display_data"
    }
   ],
   "source": [
    "#sns.scatterplot(x=unfinished_construction_population_ml_df['Detached Units'], y=unfinished_construction_population_ml_df['Semi-detached Units'], hue=unfinished_construction_population_ml_df['Occupied Houses'] )\n",
    "\n",
    "sns.scatterplot(x=unfinished_construction_population_df['Total All Units'], y=unfinished_construction_population_df['Occupied Houses'])\n",
    "#sns.scatterplot(x=unfinished_units_county_df['Occupied Apartments'], y=unfinished_units_county_df['Total All Units'])\n",
    "\n",
    "plt.title(\"Occupied Houses relative to site size\")\n",
    "plt.savefig(\"occupied_houses_per_site.jpg\", dpi=300, transparent = True, bbox_inches = 'tight', pad_inches=0.3)"
   ]
  },
  {
   "cell_type": "code",
   "execution_count": 5,
   "id": "6fc81844",
   "metadata": {},
   "outputs": [
    {
     "data": {
      "text/plain": [
       "LinearRegression()"
      ]
     },
     "execution_count": 5,
     "metadata": {},
     "output_type": "execute_result"
    }
   ],
   "source": [
    "#create the regression model object and fit the data into it\n",
    "reg_houses = linear_model.LinearRegression()\n",
    "\n",
    "reg_houses.fit(X,y)"
   ]
  },
  {
   "cell_type": "code",
   "execution_count": 6,
   "id": "d56ccca4",
   "metadata": {},
   "outputs": [
    {
     "name": "stdout",
     "output_type": "stream",
     "text": [
      "Predicted Speed : \n",
      "[[41.70586456]]\n"
     ]
    }
   ],
   "source": [
    "#predict the speed at 20:00 hours in the evening and with 750 users online\n",
    "predicted_speed = reg_houses.predict([[200]])\n",
    "print(\"Predicted Speed : \")\n",
    "print(predicted_speed)\n"
   ]
  },
  {
   "cell_type": "code",
   "execution_count": 7,
   "id": "eca0be98",
   "metadata": {},
   "outputs": [],
   "source": [
    "# Call the split the data and the default splitting is 75% for training and 25% for testing\n",
    "X_train, X_test, y_train, y_test = train_test_split(X, y, random_state = 42)\n",
    "\n",
    "# Train the LinearRegression mode by using a method fit() function/ method\n",
    "lr = LinearRegression().fit(X_train, y_train)"
   ]
  },
  {
   "cell_type": "code",
   "execution_count": 8,
   "id": "c17f53de",
   "metadata": {},
   "outputs": [
    {
     "name": "stdout",
     "output_type": "stream",
     "text": [
      "Training set score: 0.25\n",
      "Test set score: 0.26\n"
     ]
    }
   ],
   "source": [
    "# Display the score values by calling lr\n",
    "print(\"Training set score: {:.2f}\".format(lr.score(X_train, y_train)))\n",
    "print(\"Test set score: {:.2f}\".format(lr.score(X_test, y_test)))\n"
   ]
  },
  {
   "cell_type": "markdown",
   "id": "4e82fb67",
   "metadata": {},
   "source": [
    "## Analysis per county"
   ]
  },
  {
   "cell_type": "code",
   "execution_count": 9,
   "id": "29bfd25a",
   "metadata": {},
   "outputs": [
    {
     "name": "stdout",
     "output_type": "stream",
     "text": [
      "<class 'pandas.core.frame.DataFrame'>\n",
      "RangeIndex: 26 entries, 0 to 25\n",
      "Data columns (total 16 columns):\n",
      " #   Column                 Non-Null Count  Dtype \n",
      "---  ------                 --------------  ----- \n",
      " 0   Unnamed: 0             26 non-null     int64 \n",
      " 1   County                 26 non-null     object\n",
      " 2   Department Ref Number  26 non-null     int64 \n",
      " 3   Detached Units         26 non-null     int64 \n",
      " 4   Semi-detached Units    26 non-null     int64 \n",
      " 5   Terraced Units         26 non-null     int64 \n",
      " 6   Apartment Units        26 non-null     int64 \n",
      " 7   Duplex Units           26 non-null     int64 \n",
      " 8   Total All Units        26 non-null     int64 \n",
      " 9   Occupied Houses        26 non-null     int64 \n",
      " 10  Vacant Houses          26 non-null     int64 \n",
      " 11  No Start Houses        26 non-null     int64 \n",
      " 12  Occupied Apartments    26 non-null     int64 \n",
      " 13  Vacant Apartments      26 non-null     int64 \n",
      " 14  No Start Apartments    26 non-null     int64 \n",
      " 15  County Population      26 non-null     int64 \n",
      "dtypes: int64(15), object(1)\n",
      "memory usage: 3.4+ KB\n"
     ]
    },
    {
     "data": {
      "text/plain": [
       "(26, 16)"
      ]
     },
     "execution_count": 9,
     "metadata": {},
     "output_type": "execute_result"
    }
   ],
   "source": [
    "# Load the dataset to be analysed\n",
    "unfinished_units_county_df = pd.read_csv('unfinished_units_county_df.csv')\n",
    "unfinished_units_county_df.info()\n",
    "unfinished_units_county_df.shape"
   ]
  },
  {
   "cell_type": "code",
   "execution_count": 10,
   "id": "6603fe2a",
   "metadata": {},
   "outputs": [],
   "source": [
    "#unfinished_construction_population_ml_df = unfinished_construction_population_df.replace('Yes', 1)\n",
    "#unfinished_construction_population_ml_df = unfinished_construction_population_ml_df.replace('No', 0)\n",
    "#unfinished_construction_population_ml_df.head()\n"
   ]
  },
  {
   "cell_type": "code",
   "execution_count": 29,
   "id": "b8a522bf",
   "metadata": {},
   "outputs": [],
   "source": [
    "#save independent values in X and dependent in y\n",
    "X = unfinished_units_county_df[['Total All Units']]\n",
    "y = unfinished_units_county_df[['Occupied Houses']]"
   ]
  },
  {
   "cell_type": "code",
   "execution_count": 30,
   "id": "b89d7d17",
   "metadata": {},
   "outputs": [
    {
     "data": {
      "image/png": "[encoded data removed]",
      "text/plain": [
       "<Figure size 432x288 with 1 Axes>"
      ]
     },
     "metadata": {
      "needs_background": "light"
     },
     "output_type": "display_data"
    }
   ],
   "source": [
    "#sns.scatterplot(x=unfinished_construction_population_ml_df['Detached Units'], y=unfinished_construction_population_ml_df['Semi-detached Units'], hue=unfinished_construction_population_ml_df['Occupied Houses'] )\n",
    "\n",
    "sns.scatterplot(x=unfinished_units_county_df['Total All Units'], y=unfinished_units_county_df['Occupied Houses'])\n",
    "#sns.scatterplot(x=unfinished_units_county_df['Occupied Apartments'], y=unfinished_units_county_df['Total All Units'])\n",
    "\n",
    "plt.title(\"Occupied Houses relative to site size per county\")\n",
    "plt.savefig(\"occupied_houses_per_site_county.jpg\", dpi=300, transparent = True, bbox_inches = 'tight', pad_inches=0.3)"
   ]
  },
  {
   "cell_type": "code",
   "execution_count": 31,
   "id": "327a1ec0",
   "metadata": {},
   "outputs": [],
   "source": [
    "#sns.scatterplot(x=unfinished_units_county_df['Total All Units'], y=unfinished_units_county_df['Occupied Apartments'])"
   ]
  },
  {
   "cell_type": "code",
   "execution_count": 32,
   "id": "fa3b2e07",
   "metadata": {},
   "outputs": [
    {
     "data": {
      "text/plain": [
       "LinearRegression()"
      ]
     },
     "execution_count": 32,
     "metadata": {},
     "output_type": "execute_result"
    }
   ],
   "source": [
    "#create the regression model object and fit the data into it\n",
    "reg_houses = linear_model.LinearRegression()\n",
    "\n",
    "reg_houses.fit(X,y)"
   ]
  },
  {
   "cell_type": "code",
   "execution_count": 36,
   "id": "8e216b91",
   "metadata": {},
   "outputs": [
    {
     "name": "stdout",
     "output_type": "stream",
     "text": [
      "Number of units: 100\n",
      "Number of occupied units: [[7.9934503]]\n",
      "Number of units: 500\n",
      "Number of occupied units: [[134.20914447]]\n",
      "Number of units: 1000\n",
      "Number of occupied units: [[291.97876219]]\n",
      "Number of units: 1500\n",
      "Number of occupied units: [[449.7483799]]\n",
      "Number of units: 2000\n",
      "Number of occupied units: [[607.51799762]]\n"
     ]
    }
   ],
   "source": [
    "#predict the speed at 20:00 hours in the evening and with 750 users online\n",
    "\n",
    "n_units = [100, 500, 1000, 1500, 2000]\n",
    "\n",
    "for i in n_units:\n",
    "    predicted_occupied_units = reg_houses.predict([[i]])\n",
    "    print(f\"Number of units: {i}\\nNumber of occupied units: {predicted_occupied_units}\")\n"
   ]
  },
  {
   "cell_type": "code",
   "execution_count": 37,
   "id": "5ae99ef1",
   "metadata": {},
   "outputs": [],
   "source": [
    "# Call the split the data and the default splitting is 75% for training and 25% for testing\n",
    "X_train, X_test, y_train, y_test = train_test_split(X, y, random_state = 42)\n",
    "\n",
    "# Train the LinearRegression mode by using a method fit() function/ method\n",
    "lr = LinearRegression().fit(X_train, y_train)"
   ]
  },
  {
   "cell_type": "code",
   "execution_count": 39,
   "id": "c6750167",
   "metadata": {},
   "outputs": [
    {
     "name": "stdout",
     "output_type": "stream",
     "text": [
      "lr.coef_: [[0.32195595]]\n",
      "lr.intercept_: [-38.20257102]\n"
     ]
    }
   ],
   "source": [
    "# Display the coefficient and intercept values\n",
    "print(\"lr.coef_: {}\".format(lr.coef_))\n",
    "print(\"lr.intercept_: {}\".format(lr.intercept_))"
   ]
  },
  {
   "cell_type": "code",
   "execution_count": 40,
   "id": "3b4ed880",
   "metadata": {},
   "outputs": [
    {
     "name": "stdout",
     "output_type": "stream",
     "text": [
      "Training set score: 0.82\n",
      "Test set score: 0.77\n"
     ]
    }
   ],
   "source": [
    "# Display the score values by calling lr\n",
    "print(\"Training set score: {:.2f}\".format(lr.score(X_train, y_train)))\n",
    "print(\"Test set score: {:.2f}\".format(lr.score(X_test, y_test)))\n"
   ]
  },
  {
   "cell_type": "code",
   "execution_count": 41,
   "id": "27e4e28f",
   "metadata": {},
   "outputs": [
    {
     "name": "stdout",
     "output_type": "stream",
     "text": [
      "Training set score: 0.82\n",
      "Test set score: 0.77\n"
     ]
    }
   ],
   "source": [
    "from sklearn.linear_model import Ridge\n",
    "\n",
    "# Train the Ridge() mode by calling a fit() method\n",
    "ridge = Ridge().fit(X_train, y_train)\n",
    "\n",
    "# Display the score by using ridge object\n",
    "print(\"Training set score: {:.2f}\".format(ridge.score(X_train, y_train)))\n",
    "print(\"Test set score: {:.2f}\".format(ridge.score(X_test, y_test)))"
   ]
  },
  {
   "cell_type": "code",
   "execution_count": 42,
   "id": "1fe3c4c7",
   "metadata": {},
   "outputs": [
    {
     "name": "stdout",
     "output_type": "stream",
     "text": [
      "Training set score: 0.82\n",
      "Test set score: 0.84\n"
     ]
    }
   ],
   "source": [
    "# alpha = 10 is a parameter using a fit() method\n",
    "ridge10 = Ridge(alpha = 1000000).fit(X_train, y_train)\n",
    "\n",
    "# Display the score values for Ridge function\n",
    "print(\"Training set score: {:.2f}\".format(ridge10.score(X_train, y_train)))\n",
    "print(\"Test set score: {:.2f}\".format(ridge10.score(X_test, y_test)))"
   ]
  },
  {
   "cell_type": "code",
   "execution_count": 44,
   "id": "624226a2",
   "metadata": {},
   "outputs": [
    {
     "name": "stdout",
     "output_type": "stream",
     "text": [
      "Training set score: 0.82\n",
      "Test set score: 0.77\n",
      "Number of features used: 1\n"
     ]
    }
   ],
   "source": [
    "from sklearn.linear_model import Lasso\n",
    "lasso = Lasso().fit(X_train, y_train)\n",
    "print(\"Training set score: {:.2f}\".format(lasso.score(X_train, y_train)))\n",
    "print(\"Test set score: {:.2f}\".format(lasso.score(X_test, y_test)))\n",
    "print(\"Number of features used: {}\".format(np.sum(lasso.coef_ != 0)))"
   ]
  },
  {
   "cell_type": "code",
   "execution_count": 45,
   "id": "6fc52787",
   "metadata": {},
   "outputs": [
    {
     "name": "stdout",
     "output_type": "stream",
     "text": [
      "Training set score: 0.82\n",
      "Test set score: 0.77\n",
      "Number of features used: 1\n"
     ]
    }
   ],
   "source": [
    "# we increase the default setting of \"max_iter\",\n",
    "# otherwise the model would warn us that we should increase max_iter.\n",
    "lasso001 = Lasso(alpha=.00000001, max_iter=100000).fit(X_train, y_train)\n",
    "print(\"Training set score: {:.2f}\".format(lasso001.score(X_train, y_train)))\n",
    "print(\"Test set score: {:.2f}\".format(lasso001.score(X_test, y_test)))\n",
    "print(\"Number of features used: {}\".format(np.sum(lasso001.coef_ != 0)))"
   ]
  },
  {
   "cell_type": "code",
   "execution_count": 46,
   "id": "a14a18d3",
   "metadata": {},
   "outputs": [
    {
     "name": "stdout",
     "output_type": "stream",
     "text": [
      "Training set score: 0.82\n",
      "Test set score: 0.77\n",
      "Number of features used: 1\n"
     ]
    }
   ],
   "source": [
    "lasso00001 = Lasso(alpha=0.0001, max_iter=100000).fit(X_train, y_train)\n",
    "print(\"Training set score: {:.2f}\".format(lasso00001.score(X_train, y_train)))\n",
    "print(\"Test set score: {:.2f}\".format(lasso00001.score(X_test, y_test)))\n",
    "print(\"Number of features used: {}\".format(np.sum(lasso00001.coef_ != 0)))"
   ]
  },
  {
   "cell_type": "code",
   "execution_count": 28,
   "id": "a0ddd36a",
   "metadata": {},
   "outputs": [
    {
     "data": {
      "image/png": "[encoded data removed]",
      "text/plain": [
       "<Figure size 432x288 with 1 Axes>"
      ]
     },
     "metadata": {
      "needs_background": "light"
     },
     "output_type": "display_data"
    }
   ],
   "source": [
    "sns.scatterplot(x=unfinished_units_county_df['Total All Units'], y=unfinished_units_county_df['Occupied Houses'], label = \"Houses\")\n",
    "sns.scatterplot(x=unfinished_units_county_df['Total All Units'], y=unfinished_units_county_df['Occupied Apartments'], label = \"Apartments\")\n",
    "\n",
    "plt.title(\"Occupied Units relative to site size per county\")\n",
    "plt.savefig(\"occupied_units_per_site_county.jpg\", dpi=300, transparent = True, bbox_inches = 'tight', pad_inches=0.3)"
   ]
  },
  {
   "cell_type": "code",
   "execution_count": null,
   "id": "a75458e6",
   "metadata": {},
   "outputs": [],
   "source": []
  }
 ],
 "metadata": {
  "kernelspec": {
   "display_name": "Python 3 (ipykernel)",
   "language": "python",
   "name": "python3"
  },
  "language_info": {
   "codemirror_mode": {
    "name": "ipython",
    "version": 3
   },
   "file_extension": ".py",
   "mimetype": "text/x-python",
   "name": "python",
   "nbconvert_exporter": "python",
   "pygments_lexer": "ipython3",
   "version": "3.9.7"
  }
 },
 "nbformat": 4,
 "nbformat_minor": 5
}
