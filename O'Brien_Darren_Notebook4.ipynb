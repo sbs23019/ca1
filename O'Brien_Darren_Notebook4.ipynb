{
 "cells": [
  {
   "cell_type": "code",
   "execution_count": 1,
   "id": "c2814b30",
   "metadata": {},
   "outputs": [],
   "source": [
    "# Import libraries to be used in the task\n",
    "import pandas as pd\n",
    "import numpy as np\n",
    "import seaborn as sns\n",
    "import statistics as stats\n",
    "import matplotlib.pyplot as plt\n",
    "\n",
    "from sklearn import metrics     \n",
    "from sklearn import linear_model\n",
    "from sklearn.metrics import confusion_matrix\n",
    "\n",
    "# Ignore warnings - warning were used in the development of the notebook, and removed in the final version\n",
    "import warnings\n",
    "#warnings.filterwarnings('ignore')"
   ]
  },
  {
   "cell_type": "code",
   "execution_count": 2,
   "id": "1e24f2ef",
   "metadata": {},
   "outputs": [
    {
     "name": "stdout",
     "output_type": "stream",
     "text": [
      "<class 'pandas.core.frame.DataFrame'>\n",
      "RangeIndex: 420 entries, 0 to 419\n",
      "Data columns (total 18 columns):\n",
      " #   Column                       Non-Null Count  Dtype  \n",
      "---  ------                       --------------  -----  \n",
      " 0   Unnamed: 0                   420 non-null    int64  \n",
      " 1   Department Ref Number        420 non-null    float64\n",
      " 2   Construction Activity (Y/N)  420 non-null    object \n",
      " 3   County                       420 non-null    object \n",
      " 4   Detached Units               420 non-null    float64\n",
      " 5   Semi-detached Units          420 non-null    float64\n",
      " 6   Terraced Units               420 non-null    float64\n",
      " 7   Apartment Units              420 non-null    float64\n",
      " 8   Duplex Units                 420 non-null    float64\n",
      " 9   Total All Units              420 non-null    float64\n",
      " 10  Occupied Houses              420 non-null    float64\n",
      " 11  Vacant Houses                420 non-null    float64\n",
      " 12  No Start Houses              420 non-null    float64\n",
      " 13  Occupied Apartments          420 non-null    float64\n",
      " 14  Vacant Apartments            420 non-null    float64\n",
      " 15  No Start Apartments          420 non-null    float64\n",
      " 16  Building Site Only           420 non-null    object \n",
      " 17  County Population            420 non-null    float64\n",
      "dtypes: float64(14), int64(1), object(3)\n",
      "memory usage: 59.2+ KB\n"
     ]
    },
    {
     "data": {
      "text/plain": [
       "(420, 18)"
      ]
     },
     "execution_count": 2,
     "metadata": {},
     "output_type": "execute_result"
    }
   ],
   "source": [
    "unfinished_construction_population_df = pd.read_csv('unfinished_construction_population_df.csv')\n",
    "unfinished_construction_population_df.info()\n",
    "unfinished_construction_population_df.shape"
   ]
  },
  {
   "cell_type": "markdown",
   "id": "e14a47bf",
   "metadata": {},
   "source": [
    "# Last resort...."
   ]
  },
  {
   "cell_type": "code",
   "execution_count": 3,
   "id": "29602ebd",
   "metadata": {},
   "outputs": [],
   "source": [
    "ml_df = unfinished_construction_population_df\n",
    "ml_df['Occupied Houses']=unfinished_construction_population_df['Occupied Houses'].apply(lambda x: 1 if x != 0 else 0)\n",
    "\n",
    "ml_df = ml_df.replace('Yes', 1)\n",
    "ml_df = ml_df.replace('No', 0)\n"
   ]
  },
  {
   "cell_type": "code",
   "execution_count": 4,
   "id": "56245691",
   "metadata": {},
   "outputs": [
    {
     "name": "stdout",
     "output_type": "stream",
     "text": [
      "<class 'pandas.core.frame.DataFrame'>\n",
      "RangeIndex: 420 entries, 0 to 419\n",
      "Data columns (total 18 columns):\n",
      " #   Column                       Non-Null Count  Dtype  \n",
      "---  ------                       --------------  -----  \n",
      " 0   Unnamed: 0                   420 non-null    int64  \n",
      " 1   Department Ref Number        420 non-null    float64\n",
      " 2   Construction Activity (Y/N)  420 non-null    int64  \n",
      " 3   County                       420 non-null    object \n",
      " 4   Detached Units               420 non-null    float64\n",
      " 5   Semi-detached Units          420 non-null    float64\n",
      " 6   Terraced Units               420 non-null    float64\n",
      " 7   Apartment Units              420 non-null    float64\n",
      " 8   Duplex Units                 420 non-null    float64\n",
      " 9   Total All Units              420 non-null    float64\n",
      " 10  Occupied Houses              420 non-null    int64  \n",
      " 11  Vacant Houses                420 non-null    float64\n",
      " 12  No Start Houses              420 non-null    float64\n",
      " 13  Occupied Apartments          420 non-null    float64\n",
      " 14  Vacant Apartments            420 non-null    float64\n",
      " 15  No Start Apartments          420 non-null    float64\n",
      " 16  Building Site Only           420 non-null    int64  \n",
      " 17  County Population            420 non-null    float64\n",
      "dtypes: float64(13), int64(4), object(1)\n",
      "memory usage: 59.2+ KB\n"
     ]
    }
   ],
   "source": [
    "ml_df.info()"
   ]
  },
  {
   "cell_type": "markdown",
   "id": "7bed4959",
   "metadata": {},
   "source": [
    "## Decision Tree\n"
   ]
  },
  {
   "cell_type": "code",
   "execution_count": 5,
   "id": "b151fd77",
   "metadata": {},
   "outputs": [],
   "source": [
    "# Use only 'Age: 2' and 'EstimatedSalary: 3' features into X\n",
    "X = ml_df.iloc[:, [1, 15]].values\n",
    "\n",
    "# Store the 'Purchased' feature into 'y'\n",
    "y = ml_df.iloc[:, 9].values\n",
    "\n",
    "# Display X and y \n",
    "#X, y"
   ]
  },
  {
   "cell_type": "code",
   "execution_count": 6,
   "id": "ebdd0d5f",
   "metadata": {},
   "outputs": [
    {
     "data": {
      "text/plain": [
       "((420, 2), (420,), (315, 2), (105, 2), (315,), (105,))"
      ]
     },
     "execution_count": 6,
     "metadata": {},
     "output_type": "execute_result"
    }
   ],
   "source": [
    "# Load the library 'sklearn.model_selection'\n",
    "from sklearn.model_selection import train_test_split\n",
    "\n",
    "# Split the data set into Training and Testing parts\n",
    "X_train, X_test, y_train, y_test = train_test_split(X, y, test_size = 0.25, random_state = 0)\n",
    "\n",
    "# Display the Number of rows and columns before (X, y) and after Splitting (X_train, X_test, y_train, y_test)\n",
    "X.shape, y.shape, X_train.shape, X_test.shape, y_train.shape, y_test.shape"
   ]
  },
  {
   "cell_type": "code",
   "execution_count": 7,
   "id": "6b233634",
   "metadata": {},
   "outputs": [],
   "source": [
    "# Load the library 'sklearn.preprocessing'\n",
    "from sklearn.preprocessing import StandardScaler\n",
    "\n",
    "# Create and initialise an object by calling a method 'StandardScaler()'\n",
    "sc = StandardScaler()\n",
    "\n",
    "# Convert the X_train and X_test into standised format\n",
    "X_train = sc.fit_transform(X_train)\n",
    "X_test = sc.transform(X_test)\n",
    "\n",
    "# Display the trandofrmed values\n",
    "# X_train, X_test"
   ]
  },
  {
   "cell_type": "code",
   "execution_count": 8,
   "id": "25141172",
   "metadata": {},
   "outputs": [
    {
     "data": {
      "text/plain": [
       "DecisionTreeClassifier(max_depth=3, random_state=42)"
      ]
     },
     "execution_count": 8,
     "metadata": {},
     "output_type": "execute_result"
    }
   ],
   "source": [
    "# Load the library 'sklearn.tree'\n",
    "from sklearn.tree import DecisionTreeClassifier\n",
    "\n",
    "# Create and initialise a DecisionTreeClassifier\n",
    "classifier = DecisionTreeClassifier(max_depth = 3, random_state = 42)\n",
    "\n",
    "# Train the classifier by calling a method 'fit()'\n",
    "classifier.fit(X_train, y_train)"
   ]
  },
  {
   "cell_type": "code",
   "execution_count": 9,
   "id": "904e01ba",
   "metadata": {},
   "outputs": [],
   "source": [
    "# Calculate the predicted vlaue by calling a method predict()\n",
    "y_pred = classifier.predict(X_test)"
   ]
  },
  {
   "cell_type": "code",
   "execution_count": 10,
   "id": "7950cc8f",
   "metadata": {},
   "outputs": [
    {
     "ename": "NameError",
     "evalue": "name 'classification_report' is not defined",
     "output_type": "error",
     "traceback": [
      "\u001b[1;31m---------------------------------------------------------------------------\u001b[0m",
      "\u001b[1;31mNameError\u001b[0m                                 Traceback (most recent call last)",
      "\u001b[1;32m~\\AppData\\Local\\Temp/ipykernel_12056/1521681904.py\u001b[0m in \u001b[0;36m<module>\u001b[1;34m\u001b[0m\n\u001b[0;32m      8\u001b[0m \u001b[1;33m\u001b[0m\u001b[0m\n\u001b[0;32m      9\u001b[0m \u001b[1;31m# print the classification_report based on y_test and y_predict\u001b[0m\u001b[1;33m\u001b[0m\u001b[1;33m\u001b[0m\u001b[0m\n\u001b[1;32m---> 10\u001b[1;33m \u001b[0mprint\u001b[0m\u001b[1;33m(\u001b[0m\u001b[0mclassification_report\u001b[0m\u001b[1;33m(\u001b[0m\u001b[0my_test\u001b[0m\u001b[1;33m,\u001b[0m \u001b[0my_pred\u001b[0m\u001b[1;33m)\u001b[0m\u001b[1;33m)\u001b[0m\u001b[1;33m\u001b[0m\u001b[1;33m\u001b[0m\u001b[0m\n\u001b[0m",
      "\u001b[1;31mNameError\u001b[0m: name 'classification_report' is not defined"
     ]
    },
    {
     "data": {
      "image/png": "[encoded data removed]",
      "text/plain": [
       "<Figure size 432x288 with 2 Axes>"
      ]
     },
     "metadata": {
      "needs_background": "light"
     },
     "output_type": "display_data"
    }
   ],
   "source": [
    "# Calculate cm by calling a method named as 'confusion_matrix'\n",
    "cm = confusion_matrix(y_test, y_pred)\n",
    "\n",
    "# Call a method heatmap() to plot confusion matrix\n",
    "sns.heatmap(cm, annot = True)\n",
    "plt.title(\"0 = No Occupied Houses. 1 = Occupied Houses\")\n",
    "plt.savefig(\"confusion_matrix\", dpi=300, transparent = True, bbox_inches = 'tight', pad_inches=0.3)\n",
    "\n",
    "# print the classification_report based on y_test and y_predict\n",
    "print(classification_report(y_test, y_pred))"
   ]
  },
  {
   "cell_type": "code",
   "execution_count": null,
   "id": "e921ba59",
   "metadata": {},
   "outputs": [],
   "source": [
    "# Model Accuracy, how often is the classifier correct?\n",
    "print(\"Accuracy:\",metrics.accuracy_score(y_test, y_pred))"
   ]
  },
  {
   "cell_type": "code",
   "execution_count": null,
   "id": "5b475f5d",
   "metadata": {},
   "outputs": [],
   "source": [
    "import matplotlib.pyplot as plt\n",
    "from sklearn import tree\n",
    "\n",
    "# Set the size of the figure\n",
    "plt.figure(figsize = (12, 8))\n",
    "\n",
    "# Display the tree by calling a method plot_tree()\n",
    "tree.plot_tree(classifier.fit(X_train, y_train)) "
   ]
  },
  {
   "cell_type": "markdown",
   "id": "2df99591",
   "metadata": {},
   "source": [
    "## Random Forest"
   ]
  },
  {
   "cell_type": "code",
   "execution_count": null,
   "id": "ed024000",
   "metadata": {},
   "outputs": [],
   "source": [
    "#Import Random Forest Model\n",
    "from sklearn.ensemble import RandomForestClassifier\n",
    "\n",
    "#Create a Gaussian Classifier\n",
    "clf=RandomForestClassifier()\n",
    "\n",
    "#Train the model using the training sets y_pred=clf.predict(X_test)\n",
    "clf.fit(X_train,y_train)\n",
    "\n",
    "y_pred2=clf.predict(X_test)"
   ]
  },
  {
   "cell_type": "code",
   "execution_count": null,
   "id": "6edc798f",
   "metadata": {},
   "outputs": [],
   "source": [
    "#Import scikit-learn metrics module for accuracy calculation\n",
    "from sklearn import metrics\n",
    "# Model Accuracy, how often is the classifier correct?\n",
    "print(\"Accuracy:\",metrics.accuracy_score(y_test, y_pred))"
   ]
  },
  {
   "cell_type": "code",
   "execution_count": null,
   "id": "ecda15a2",
   "metadata": {},
   "outputs": [],
   "source": []
  }
 ],
 "metadata": {
  "kernelspec": {
   "display_name": "Python 3 (ipykernel)",
   "language": "python",
   "name": "python3"
  },
  "language_info": {
   "codemirror_mode": {
    "name": "ipython",
    "version": 3
   },
   "file_extension": ".py",
   "mimetype": "text/x-python",
   "name": "python",
   "nbconvert_exporter": "python",
   "pygments_lexer": "ipython3",
   "version": "3.9.7"
  }
 },
 "nbformat": 4,
 "nbformat_minor": 5
}
